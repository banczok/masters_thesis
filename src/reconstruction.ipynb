{
 "cells": [
  {
   "cell_type": "code",
   "execution_count": null,
   "metadata": {},
   "outputs": [],
   "source": [
    "import numpy as np\n",
    "import os\n",
    "from skimage import io, transform\n",
    "from skimage.measure import marching_cubes\n",
    "import vtk\n",
    "import trimesh\n",
    "import cv2 as cv\n",
    "import cumcubes\n",
    "import torch\n"
   ]
  },
  {
   "cell_type": "code",
   "execution_count": null,
   "metadata": {},
   "outputs": [],
   "source": [
    "def load_image(file_path):\n",
    "    with Image.open(file_path) as img:\n",
    "        return np.array(img)\n",
    "\n",
    "def load_masks_to_volume(mask_folder, kidney_folder, cuda=True, scale=1.0, blur_kernel=(25,25)):\n",
    "    mask_files = sorted([f for f in os.listdir(mask_folder) if f.endswith('.tif')])\n",
    "    kid_files = sorted([f for f in os.listdir(kidney_folder) if f.endswith('.tif')])\n",
    "    \n",
    "    first_mask = io.imread(os.path.join(mask_folder, mask_files[0]))\n",
    "    height, width = first_mask.shape[:2]\n",
    "    new_width, new_height = (int(width * scale), int(height * scale))\n",
    "    volume_shape = (len(mask_files), int(height * scale), int(width * scale))\n",
    "    \n",
    "    if cuda:\n",
    "        volume = torch.zeros(volume_shape, dtype=torch.uint8)\n",
    "        volume1 = torch.zeros(volume_shape, dtype=torch.uint8)\n",
    "\n",
    "        for i, mask_file in enumerate(mask_files):\n",
    "            img = io.imread(os.path.join(mask_folder, mask_file))\n",
    "\n",
    "            resized = transform.resize(img, (new_height, new_width), anti_aliasing=True)\n",
    "\n",
    "            mask = torch.from_numpy(resized)\n",
    "            volume[i, :, :] = mask\n",
    "            \n",
    "        for i, file in enumerate(kid_files):\n",
    "            img = cv.imread(os.path.join(kidney_folder, file), cv.IMREAD_GRAYSCALE)\n",
    "\n",
    "            resized = cv.resize(img, (new_width, new_height), interpolation=cv.INTER_AREA)\n",
    "\n",
    "            blur = cv.GaussianBlur(resized, blur_kernel, 0)\n",
    "\n",
    "            _, thresh = cv.threshold(blur, 0, 255, cv.THRESH_BINARY + cv.THRESH_OTSU)\n",
    "            thresh = torch.from_numpy(thresh)\n",
    "            \n",
    "            contours, _ = cv.findContours(thresh.numpy(), cv.RETR_TREE, cv.CHAIN_APPROX_SIMPLE)\n",
    "            contours = sorted(contours, key=cv.contourArea, reverse=True)\n",
    "            largest_contour = contours[0]\n",
    "            \n",
    "            mask = torch.zeros_like(thresh)\n",
    "            cv.drawContours(mask.numpy(), [largest_contour], -1, (255), -1)\n",
    "            \n",
    "            volume1[i, :, :] = mask\n",
    "\n",
    "        volume = volume.cuda()\n",
    "        volume1 = volume1.cuda()\n",
    "\n",
    "        return volume, volume1\n",
    "\n",
    "    else:\n",
    "        volume = np.zeros(volume_shape, dtype=np.uint8)\n",
    "        volume1 = np.zeros(volume_shape, dtype=np.uint8)\n",
    "\n",
    "        for i, mask_file in enumerate(mask_files):\n",
    "            img = io.imread(os.path.join(mask_folder, mask_file))\n",
    "\n",
    "            resized = transform.resize(img, (new_height, new_width), anti_aliasing=True)\n",
    "\n",
    "            volume[i, :, :] = resized\n",
    "            \n",
    "        for i, file in enumerate(kid_files):\n",
    "            img = cv.imread(os.path.join(kidney_folder, file), cv.IMREAD_GRAYSCALE)\n",
    "            resized = cv.resize(img, (new_width, new_height), interpolation=cv.INTER_AREA)\n",
    "\n",
    "            blur = cv.GaussianBlur(resized, blur_kernel, 0)\n",
    "            _,thresh = cv.threshold(blur,0,255,cv.THRESH_BINARY+ cv.THRESH_OTSU)\n",
    "\n",
    "            contours, _ = cv.findContours(thresh, cv.RETR_TREE, cv.CHAIN_APPROX_SIMPLE)\n",
    "            contours = sorted(contours, key=cv.contourArea, reverse=True)\n",
    "            largest_contour = contours[0]\n",
    "\n",
    "            cv.drawContours(volume1[i], [largest_contour], -1, (255), -1)\n",
    "\n",
    "            #volume1[i, :, :] = thresh\n",
    "\n",
    "        return volume, volume1\n",
    "\n",
    "\n",
    "mask_folder = 'C:\\\\Users\\\\Bartek\\\\Desktop\\\\mgr\\\\train\\\\kidney_1_dense\\\\labels'\n",
    "kidney_contour_dir = 'C:\\\\Users\\\\Bartek\\\\Desktop\\\\mgr\\\\train\\\\kidney_1_dense\\\\images'\n",
    "\n",
    "volume, volume1 = load_masks_to_volume(mask_folder, kidney_contour_dir, cuda=False, blur_kernel=(15,15))\n",
    "print(\"volume\")"
   ]
  },
  {
   "cell_type": "code",
   "execution_count": null,
   "metadata": {},
   "outputs": [],
   "source": [
    "def create_mesh_from_volume(volume, smoothing=True, level=0.5, iterations=10, cuda=True):\n",
    "    if cuda:\n",
    "        verts, faces = cumcubes.marching_cubes(volume, 0, verbose=True)\n",
    "        verts = verts.cpu().numpy()\n",
    "        faces = faces.cpu().numpy()\n",
    "    else:\n",
    "        verts, faces, _, _ = marching_cubes(volume, level=level)\n",
    "    print(\"aaa\")\n",
    "    mesh = trimesh.Trimesh(vertices=verts, faces=faces)\n",
    "\n",
    "    if smoothing: \n",
    "        mesh = trimesh.smoothing.filter_laplacian(mesh, iterations=iterations)\n",
    "\n",
    "    return mesh\n",
    "\n",
    "kidney_mesh = create_mesh_from_volume(volume1, cuda=False, smoothing=True, iterations=5)\n",
    "print(\"mesh1\")\n",
    "blood_mesh = create_mesh_from_volume(volume, cuda=False, smoothing=True, iterations=10)\n",
    "print(\"mesh2\")\n",
    "kidney_mesh.export(\"kidney_reconstruction_cuda.stl\")\n",
    "blood_mesh.export(\"blood_vessels_reconstruction2_cuda.stl\")\n",
    "print(\"done\")"
   ]
  },
  {
   "cell_type": "code",
   "execution_count": null,
   "metadata": {},
   "outputs": [],
   "source": [
    "del volume1\n",
    "torch.cuda.empty_cache()"
   ]
  },
  {
   "cell_type": "code",
   "execution_count": null,
   "metadata": {},
   "outputs": [],
   "source": [
    "vertices_cu, faces_cu = cumcubes.marching_cubes(volume, 0, verbose=True)"
   ]
  },
  {
   "cell_type": "code",
   "execution_count": null,
   "metadata": {},
   "outputs": [],
   "source": [
    "vertices = vertices_cu.cpu().numpy()\n",
    "faces = faces_cu.cpu().numpy()\n",
    "\n",
    "# Create the mesh using trimesh\n",
    "mesh = trimesh.Trimesh(vertices=vertices, faces=faces)\n",
    "mesh.export('output_mesh.stl')"
   ]
  },
  {
   "cell_type": "code",
   "execution_count": null,
   "metadata": {},
   "outputs": [],
   "source": [
    "verts_o3d = o3d.utility.Vector3dVector(vertices)\n",
    "faces_o3d = o3d.utility.Vector3iVector(faces)\n",
    "\n",
    "# Create an Open3D mesh\n",
    "mesh = o3d.geometry.TriangleMesh(vertices=verts_o3d, triangles=faces_o3d)\n",
    "\n",
    "o3d.io.write_triangle_mesh('C:\\\\Users\\\\Bartek\\\\Desktop\\\\\\mgr\\\\output_mesh1.stl', mesh)\n",
    "if False:\n",
    "    mesh = mesh.filter_smooth_laplacian(number_of_iterations=10)\n"
   ]
  },
  {
   "cell_type": "code",
   "execution_count": null,
   "metadata": {},
   "outputs": [],
   "source": [
    "verts_o3d"
   ]
  },
  {
   "cell_type": "code",
   "execution_count": null,
   "metadata": {},
   "outputs": [],
   "source": [
    "mesh = manifold.load_mesh('path_to_your_mesh_file.stl')\n",
    "\n",
    "# Apply smoothing (adjust the method based on Manifold's API)\n",
    "smoothed_mesh = manifold.smooth_mesh(mesh, iterations=10)\n",
    "\n",
    "# Save the smoothed mesh\n",
    "manifold.save_mesh(smoothed_mesh, 'path_to_output_file.stl')"
   ]
  }
 ],
 "metadata": {
  "kernelspec": {
   "display_name": "Python 3",
   "language": "python",
   "name": "python3"
  },
  "language_info": {
   "codemirror_mode": {
    "name": "ipython",
    "version": 3
   },
   "file_extension": ".py",
   "mimetype": "text/x-python",
   "name": "python",
   "nbconvert_exporter": "python",
   "pygments_lexer": "ipython3",
   "version": "3.10.11"
  }
 },
 "nbformat": 4,
 "nbformat_minor": 2
}
