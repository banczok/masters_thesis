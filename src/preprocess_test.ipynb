{
 "cells": [
  {
   "cell_type": "code",
   "execution_count": null,
   "metadata": {},
   "outputs": [],
   "source": [
    "import os\n",
    "import pandas as pd\n",
    "import matplotlib.pyplot as plt\n",
    "import plotly.express as px\n",
    "from tqdm import tqdm\n",
    "from pathlib import Path\n",
    "import seaborn as sns\n",
    "from PIL import Image\n",
    "import numpy as np\n",
    "import cv2 as cv\n",
    "from skimage import io, exposure, img_as_float\n",
    "from matplotlib import animation, rc\n",
    "import matplotlib\n",
    "matplotlib.rcParams['animation.embed_limit'] = 2**128\n",
    "rc('animation', html='jshtml')"
   ]
  },
  {
   "cell_type": "code",
   "execution_count": null,
   "metadata": {},
   "outputs": [],
   "source": [
    "df = pd.read_csv('train_rles.csv')\n",
    "df['subset']=df['id'].map(lambda x:'_'.join(x.split('_')[:-1]))\n",
    "df"
   ]
  },
  {
   "cell_type": "code",
   "execution_count": null,
   "metadata": {},
   "outputs": [],
   "source": [
    "print(\"Number of unique slices:\", df['id'].nunique())\n",
    "print(\"Number of unique datasets:\", df['subset'].nunique())"
   ]
  },
  {
   "cell_type": "code",
   "execution_count": null,
   "metadata": {},
   "outputs": [],
   "source": [
    "df['mask_length'] = df['rle'].apply(lambda x: len(str(x).split()))\n",
    "df['scan'] = df['id'].apply(lambda x: x[:-5])\n",
    "df['mask_is_empty'] = df['id'].apply(lambda x: x[:-5])\n",
    "\n",
    "df['scan'] = df['id'].apply(lambda x: x[:-5])\n",
    "df['mask_is_empty'] = df['rle']=='1 0'\n",
    "df"
   ]
  },
  {
   "cell_type": "code",
   "execution_count": null,
   "metadata": {},
   "outputs": [],
   "source": [
    "df['subset'].value_counts().plot.bar()"
   ]
  },
  {
   "cell_type": "code",
   "execution_count": null,
   "metadata": {},
   "outputs": [],
   "source": [
    "def load_image(file_path):\n",
    "    with Image.open(file_path) as img:\n",
    "        return np.array(img)\n",
    "\n",
    "def load_v2(path):\n",
    "    im = Image.open(path)\n",
    "    im = im.convert('RGBA')\n",
    "    \n",
    "    data = np.array(im)  \n",
    "    red, green, blue, alpha = data.T \n",
    "\n",
    "    white_areas = (red == 255) & (blue == 255) & (green == 255)\n",
    "    data[..., :-1][white_areas.T] = (255, 0, 0) \n",
    "\n",
    "    data[..., -1][~white_areas.T] = 0 \n",
    "\n",
    "    return data\n",
    "\n",
    "def load_cv(path):\n",
    "    img = cv.imread(str(path),0)\n",
    "    return img\n",
    "\n",
    "def normalize_intensity(image):\n",
    "    return image / 255.\n",
    "\n",
    "def show(sample_df, idx):\n",
    "    sample = sample_df[sample_df['slice_id'] == str.zfill(f'{idx}', 4)]\n",
    "\n",
    "    image = load_image(sample['image'].values[0])\n",
    "    label = load_image(sample['label'].values[0])\n",
    "\n",
    "    image = normalize_intensity(image)\n",
    "\n",
    "    fig, (ax1, ax2) = plt.subplots(1, 2, figsize=(8, 4))\n",
    "    ax1.imshow(image, cmap='gray')\n",
    "    ax2.imshow(label, cmap='gray')\n",
    "    ax1.axis('off')\n",
    "    ax2.axis('off')\n",
    "    plt.subplots_adjust(wspace=0.05)\n",
    "    plt.show()\n",
    "\n",
    "def image_histogram_equalization(image, number_bins=256):\n",
    "    # get image histogram\n",
    "    image_histogram, bins = np.histogram(image.flatten(), number_bins, density=True)\n",
    "    cdf = image_histogram.cumsum() \n",
    "    cdf = (number_bins-1) * cdf / cdf[-1] \n",
    "    \n",
    "    image_equalized = np.interp(image.flatten(), bins[:-1], cdf)\n",
    "\n",
    "    return image_equalized.reshape(image.shape), cdf\n",
    "\n",
    "\n",
    "def animate(sample_df, id_range):\n",
    "    fig, [ax1, ax2] = plt.subplots(1, 2)\n",
    "    ax1.axis('off')\n",
    "    ax2.axis('off')\n",
    "    images = []\n",
    "\n",
    "    for i in tqdm(id_range):\n",
    "        sample = sample_df[sample_df['slice_id'] == str.zfill(f'{i}', 4)]\n",
    "\n",
    "        #image = load_image(sample['image'].values[0]) #v1, v2\n",
    "        image = load_cv(sample['image'].values[0])\n",
    "        label = load_image(sample['label'].values[0])\n",
    "\n",
    "        #image= normalize_intensity(image) #v1\n",
    "        #image= image_histogram_equalization(image)[0] #v2\n",
    "        ret,image = cv.threshold(image,150,240,cv.THRESH_TRUNC) #v3\n",
    "\n",
    "        im1 = ax1.imshow(image, animated=True, cmap='gray')\n",
    "        im2 = ax2.imshow(label, animated=True, cmap='gray')\n",
    "        \n",
    "        if i == id_range[0]:\n",
    "            ax1.imshow(image, cmap='gray')\n",
    "            ax2.imshow(label, cmap='gray')\n",
    "        \n",
    "        images.append([im1, im2])\n",
    "\n",
    "    ani = animation.ArtistAnimation(fig, images, interval=50, blit=True, repeat_delay=1000)\n",
    "    plt.close()\n",
    "    return ani\n",
    "\n",
    "\n",
    "\n",
    "def prepare_df(im_dir='kidney_1_dense',lb_dir='kidney_1_dense'):\n",
    "    df = pd.read_csv('train_rles.csv')\n",
    "    base_dir = Path('train')\n",
    "    subset_df = df[df.id.str.startswith(lb_dir)].reset_index(drop=True)\n",
    "    subset_df['slice_id'] = subset_df['id'].map(lambda x:x.split('_')[-1]) \n",
    "    subset_df['image'] = subset_df['slice_id'].map(lambda x: base_dir / im_dir / 'images' / f'{x}.tif')\n",
    "    subset_df['label'] = subset_df['slice_id'].map(lambda x: base_dir / lb_dir / 'labels' / f'{x}.tif')\n",
    "    return subset_df"
   ]
  },
  {
   "cell_type": "code",
   "execution_count": null,
   "metadata": {},
   "outputs": [],
   "source": [
    "dense_1_df = prepare_df(im_dir='kidney_1_dense',lb_dir='kidney_1_dense')"
   ]
  },
  {
   "cell_type": "markdown",
   "metadata": {},
   "source": [
    "# Before"
   ]
  },
  {
   "cell_type": "code",
   "execution_count": null,
   "metadata": {},
   "outputs": [],
   "source": [
    "ani1 = animate(dense_1_df,id_range=range(1200,1250))\n",
    "ani1"
   ]
  },
  {
   "cell_type": "markdown",
   "metadata": {},
   "source": [
    "# After"
   ]
  },
  {
   "cell_type": "code",
   "execution_count": null,
   "metadata": {},
   "outputs": [],
   "source": [
    "ani2 = animate(dense_1_df,id_range=range(1200,1250))\n",
    "ani2 "
   ]
  },
  {
   "cell_type": "code",
   "execution_count": null,
   "metadata": {},
   "outputs": [],
   "source": [
    "ani3 = animate(dense_1_df,id_range=range(1200,1250))\n",
    "ani3 "
   ]
  },
  {
   "cell_type": "code",
   "execution_count": null,
   "metadata": {},
   "outputs": [],
   "source": [
    "def animate_comparison(sample_df, id_range):\n",
    "    fig, [ax1, ax2, ax3] = plt.subplots(1, 3, figsize=(18,6))\n",
    "    ax1.axis('off')\n",
    "    ax2.axis('off')\n",
    "    ax3.axis('off')\n",
    "\n",
    "    ax1.set_title(\"before\")\n",
    "    ax2.set_title(\"after\")\n",
    "    ax3.set_title(\"mask\")\n",
    "\n",
    "    images = []\n",
    "\n",
    "    for i in tqdm(id_range):\n",
    "        sample = sample_df[sample_df['slice_id'] == str.zfill(f'{i}', 4)]\n",
    "\n",
    "        image = load_image(sample['image'].values[0])\n",
    "        label = load_image(sample['label'].values[0])\n",
    "\n",
    "        image2 = normalize_intensity(image)\n",
    "        image3 = image_histogram_equalization(image)[0]  # Ensure this function returns an image\n",
    "\n",
    "        im1 = ax1.imshow(image2, animated=True, cmap='gray')\n",
    "        im2 = ax2.imshow(image3, animated=True, cmap='gray')\n",
    "        im3 = ax3.imshow(label, animated=True, cmap='gray')\n",
    "        \n",
    "        images.append([im1, im2, im3])\n",
    "\n",
    "    ani = animation.ArtistAnimation(fig, images, interval=50, blit=True, repeat_delay=1000)\n",
    "    plt.close(fig)  # Close the plot here to prevent it from showing immediately\n",
    "    return ani\n",
    "\n",
    "animate_comparison(dense_1_df,id_range=range(1200,1300))"
   ]
  },
  {
   "cell_type": "code",
   "execution_count": null,
   "metadata": {},
   "outputs": [],
   "source": [
    "def animate_comparison3(sample_df, id_range, figsize=(12, 6)): \n",
    "    fig, [ax1, ax2] = plt.subplots(1, 2, figsize=figsize)  \n",
    "    ax1.axis('off')\n",
    "    ax2.axis('off')\n",
    "\n",
    "    ax1.set_title(\"before\")\n",
    "    ax2.set_title(\"after\")\n",
    "\n",
    "    images = []\n",
    "\n",
    "    for i in tqdm(id_range):\n",
    "        sample = sample_df[sample_df['slice_id'] == str.zfill(f'{i}', 4)]\n",
    "\n",
    "        image = load_image(sample['image'].values[0])\n",
    "        im = Image.open(sample['label'].values[0])\n",
    "        im = im.convert('RGBA')\n",
    "\n",
    "        data = np.array(im)  \n",
    "        red, green, blue, alpha = data.T \n",
    "\n",
    "        white_areas = (red == 255) & (blue == 255) & (green == 255)\n",
    "        data[..., :-1][white_areas.T] = (255, 0, 0) \n",
    "\n",
    "        data[..., -1][~white_areas.T] = 0 \n",
    "\n",
    "        image2 = normalize_intensity(image)\n",
    "        image3 = image_histogram_equalization(image)[0] \n",
    "\n",
    "\n",
    "        im1 = ax1.imshow(image2, animated=True, cmap='gray')\n",
    "        im1_overlay = ax1.imshow(data, animated=True, cmap='Reds', alpha=1)\n",
    "\n",
    "        im2 = ax2.imshow(image3, animated=True, cmap='gray')\n",
    "        im2_overlay = ax2.imshow(data, animated=True, cmap='Reds', alpha=1)\n",
    "        \n",
    "        images.append([im1, im1_overlay, im2, im2_overlay])\n",
    "\n",
    "    ani = animation.ArtistAnimation(fig, images, interval=50, blit=True, repeat_delay=1000)\n",
    "    plt.close(fig) \n",
    "    return ani\n",
    "\n",
    "ani = animate_comparison3(dense_1_df,id_range=range(100,2000,5))\n",
    "ani"
   ]
  },
  {
   "cell_type": "code",
   "execution_count": null,
   "metadata": {},
   "outputs": [],
   "source": [
    "matplotlib.rcParams['animation.ffmpeg_path'] = r'C:\\\\Users\\\\Bartek\\\\Desktop\\\\mgr\\\\ffmpeg-master-latest-win64-gpl\\\\bin\\\\ffmpeg.exe'\n",
    "writergif = animation.FFMpegWriter(fps=30) \n",
    "ani.save('animation.mp4', writer=writergif, )"
   ]
  },
  {
   "cell_type": "code",
   "execution_count": null,
   "metadata": {},
   "outputs": [],
   "source": [
    "def animate_comparison3(sample_df, id_range, figsize=(12, 6)): \n",
    "    fig, [ax1, ax2, ax3] = plt.subplots(1, 3, figsize=figsize)  \n",
    "    ax1.axis('off')\n",
    "    ax2.axis('off')\n",
    "\n",
    "    ax1.set_title(\"Original\")\n",
    "    ax2.set_title(\"Mask\")\n",
    "    ax3.set_title(\"Contour\")\n",
    "\n",
    "    images = []\n",
    "\n",
    "    for i in tqdm(id_range):\n",
    "        sample = sample_df[sample_df['slice_id'] == str.zfill(f'{i}', 4)]\n",
    "\n",
    "        img = load_cv(sample['image'].values[0])\n",
    "        blur = cv.GaussianBlur(img, (25, 25), 0)\n",
    "        ret,thresh = cv.threshold(blur,0,255,cv.THRESH_BINARY+ cv.THRESH_OTSU)\n",
    "\n",
    "        contour, _ = cv.findContours(thresh, cv.RETR_TREE, cv.CHAIN_APPROX_SIMPLE)\n",
    "        mask = np.zeros_like(img)\n",
    "        cv.drawContours(mask, contour, -1, (255), 1)\n",
    "\n",
    "        im1 = ax1.imshow(img, animated=True, cmap='gray')\n",
    "        im2 = ax2.imshow(thresh, animated=True, cmap='gray')\n",
    "        im3 = ax3.imshow(mask, animated=True, cmap='gray')\n",
    "\n",
    "        images.append([im1, im2, im3])\n",
    "\n",
    "    ani = animation.ArtistAnimation(fig, images, interval=50, blit=True, repeat_delay=1000)\n",
    "    plt.close(fig) \n",
    "    return ani\n",
    "\n",
    "ani5 = animate_comparison3(dense_1_df,id_range=range(800,1600,50))\n",
    "ani5"
   ]
  },
  {
   "cell_type": "markdown",
   "metadata": {},
   "source": [
    "# TEST"
   ]
  }
 ],
 "metadata": {
  "kernelspec": {
   "display_name": "Python 3",
   "language": "python",
   "name": "python3"
  },
  "language_info": {
   "codemirror_mode": {
    "name": "ipython",
    "version": 3
   },
   "file_extension": ".py",
   "mimetype": "text/x-python",
   "name": "python",
   "nbconvert_exporter": "python",
   "pygments_lexer": "ipython3",
   "version": "3.10.11"
  }
 },
 "nbformat": 4,
 "nbformat_minor": 2
}
